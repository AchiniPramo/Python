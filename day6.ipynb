{
 "cells": [
  {
   "cell_type": "code",
   "execution_count": 2,
   "id": "80cbaa64",
   "metadata": {},
   "outputs": [
    {
     "name": "stdout",
     "output_type": "stream",
     "text": [
      "[ 5  8  3 10]\n",
      "<class 'numpy.ndarray'>\n"
     ]
    }
   ],
   "source": [
    "import numpy as np\n",
    "\n",
    "arr = np.array([5, 8, 3, 10])\n",
    "print(arr)\n",
    "print(type(arr))"
   ]
  },
  {
   "cell_type": "code",
   "execution_count": 10,
   "id": "535172a3",
   "metadata": {},
   "outputs": [
    {
     "name": "stdout",
     "output_type": "stream",
     "text": [
      "[11 10 11 21]\n"
     ]
    }
   ],
   "source": [
    "import numpy as np\n",
    "\n",
    "arr_1 = np.array([5, 8, 3, 10])\n",
    "arr_2 = np.array([6, 2, 8, 11])\n",
    "\n",
    "result_addition = arr_1 + arr_2\n",
    "print(result_addition)\n"
   ]
  },
  {
   "cell_type": "code",
   "execution_count": null,
   "id": "ad6cbe96",
   "metadata": {},
   "outputs": [
    {
     "name": "stdout",
     "output_type": "stream",
     "text": [
      "[-1  6 -5 -1]\n"
     ]
    }
   ],
   "source": [
    "result_subtraction = arr_1 - arr_2\n",
    "print(result_subtraction)"
   ]
  },
  {
   "cell_type": "code",
   "execution_count": 8,
   "id": "b7439972",
   "metadata": {},
   "outputs": [
    {
     "name": "stdout",
     "output_type": "stream",
     "text": [
      "[ 30  16  24 110]\n"
     ]
    }
   ],
   "source": [
    "result_multiple = arr_1 * arr_2\n",
    "print(result_multiple)"
   ]
  },
  {
   "cell_type": "code",
   "execution_count": 11,
   "id": "d83382a8",
   "metadata": {},
   "outputs": [
    {
     "name": "stdout",
     "output_type": "stream",
     "text": [
      "[0.83333333 4.         0.375      0.90909091]\n"
     ]
    }
   ],
   "source": [
    "result_devision = arr_1 / arr_2\n",
    "print(result_devision)"
   ]
  },
  {
   "cell_type": "code",
   "execution_count": 12,
   "id": "54f4148f",
   "metadata": {},
   "outputs": [
    {
     "name": "stdout",
     "output_type": "stream",
     "text": [
      "[ 4.  3.  6. 10.]\n"
     ]
    }
   ],
   "source": [
    "arr_1 = np.array([16, 9, 36, 100])\n",
    "print(np.sqrt(arr_1))"
   ]
  },
  {
   "cell_type": "code",
   "execution_count": 13,
   "id": "cd26a428",
   "metadata": {},
   "outputs": [
    {
     "name": "stdout",
     "output_type": "stream",
     "text": [
      "161\n"
     ]
    }
   ],
   "source": [
    "print(np.sum(arr_1))"
   ]
  },
  {
   "cell_type": "code",
   "execution_count": 17,
   "id": "c0566483",
   "metadata": {},
   "outputs": [
    {
     "name": "stdout",
     "output_type": "stream",
     "text": [
      "100\n"
     ]
    }
   ],
   "source": [
    "print(np.max(arr_1))\n"
   ]
  },
  {
   "cell_type": "code",
   "execution_count": 16,
   "id": "ddae209d",
   "metadata": {},
   "outputs": [
    {
     "name": "stdout",
     "output_type": "stream",
     "text": [
      "9\n"
     ]
    }
   ],
   "source": [
    "print(np.min(arr_1))"
   ]
  },
  {
   "cell_type": "code",
   "execution_count": null,
   "id": "1207734c",
   "metadata": {},
   "outputs": [
    {
     "name": "stdout",
     "output_type": "stream",
     "text": [
      "[[ 9 10  5]\n",
      " [ 8 12 20]]\n",
      "6\n",
      "(2, 3)\n",
      "2\n"
     ]
    }
   ],
   "source": [
    "arr_1 = np.array([[9, 10, 5] , [8, 12, 20]])\n",
    "print(arr_1)\n",
    "print(arr_1.size)\n",
    "print(arr_1.shape)\n",
    "print(arr_1.ndim)"
   ]
  },
  {
   "cell_type": "code",
   "execution_count": null,
   "id": "9505cfc1",
   "metadata": {},
   "outputs": [
    {
     "name": "stdout",
     "output_type": "stream",
     "text": [
      "12\n",
      "3\n",
      "(2, 2, 3)\n"
     ]
    }
   ],
   "source": [
    "arr_1 = np.array([[[9, 10, 5], [8, 12, 20]], [[1, 2, 3], [4, 5, 6]]])\n",
    "print(arr_1.size)\n",
    "print(arr_1.shape)\n",
    "print(arr_1.ndim)"
   ]
  },
  {
   "cell_type": "code",
   "execution_count": 33,
   "id": "37e931a9",
   "metadata": {},
   "outputs": [
    {
     "name": "stdout",
     "output_type": "stream",
     "text": [
      "int64\n"
     ]
    }
   ],
   "source": [
    "array = np.array([1, 2, True ])\n",
    "print(array.dtype)"
   ]
  },
  {
   "cell_type": "code",
   "execution_count": 36,
   "id": "eee02a3e",
   "metadata": {},
   "outputs": [
    {
     "name": "stdout",
     "output_type": "stream",
     "text": [
      "10\n",
      "3\n"
     ]
    }
   ],
   "source": [
    "arr_2 = np.array([[5, 3, 8], [4, 9, 10]])\n",
    "print(arr_2[1, 2]) \n",
    "print(arr_2[-2, -2])"
   ]
  },
  {
   "cell_type": "code",
   "execution_count": 37,
   "id": "6fa68b13",
   "metadata": {},
   "outputs": [
    {
     "name": "stdout",
     "output_type": "stream",
     "text": [
      "[ True False  True  True False]\n"
     ]
    }
   ],
   "source": [
    "arr = np.array([30, 10, 40, 50, 20])\n",
    "condition = arr > 25\n",
    "print(condition)"
   ]
  },
  {
   "cell_type": "code",
   "execution_count": 38,
   "id": "4d88e9c8",
   "metadata": {},
   "outputs": [
    {
     "name": "stdout",
     "output_type": "stream",
     "text": [
      "[30 40 50]\n"
     ]
    }
   ],
   "source": [
    "print(arr[condition]) "
   ]
  },
  {
   "cell_type": "code",
   "execution_count": 39,
   "id": "c43c3f52",
   "metadata": {},
   "outputs": [
    {
     "name": "stdout",
     "output_type": "stream",
     "text": [
      "[30 40 50]\n"
     ]
    }
   ],
   "source": [
    "print(arr[arr > 25])  "
   ]
  },
  {
   "cell_type": "code",
   "execution_count": null,
   "id": "893ae133",
   "metadata": {},
   "outputs": [
    {
     "name": "stdout",
     "output_type": "stream",
     "text": [
      "[30 40]\n"
     ]
    }
   ],
   "source": [
    "arr = np.array([30, 10, 40, 50, 20])\n",
    "print(arr[(arr > 25) & (arr < 45)])"
   ]
  },
  {
   "cell_type": "code",
   "execution_count": 54,
   "id": "621a64ac",
   "metadata": {},
   "outputs": [
    {
     "name": "stdout",
     "output_type": "stream",
     "text": [
      "29.666666666666668\n",
      "[31 30 32 31 34 35 31 30]\n"
     ]
    }
   ],
   "source": [
    "body_tempreture = np.array([\n",
    "    [31, 30, 28], \n",
    "    [29, 29, 32],\n",
    "    [26, 24, 27], \n",
    "    [31, 34, 35], \n",
    "    [28, 31, 30]\n",
    "    ])\n",
    "\n",
    "daily_average = np.mean(body_tempreture)\n",
    "# daily_average = np.sum(body_tempreture)/(body_tempreture.size)\n",
    "print(daily_average)\n",
    "\n",
    "print(body_tempreture[body_tempreture > daily_average])\n"
   ]
  },
  {
   "cell_type": "code",
   "execution_count": null,
   "id": "98b4c4dc",
   "metadata": {},
   "outputs": [
    {
     "name": "stdout",
     "output_type": "stream",
     "text": [
      "[[0. 0. 0.]\n",
      " [0. 0. 0.]]\n",
      "[0. 0. 0. 0. 0.]\n",
      "[[1. 1. 1.]\n",
      " [1. 1. 1.]]\n",
      "[1. 1. 1. 1. 1.]\n"
     ]
    }
   ],
   "source": [
    "print(np.zeros((2, 3))) \n",
    "print(np.zeros(5))\n"
   ]
  },
  {
   "cell_type": "code",
   "execution_count": 60,
   "id": "e6a64ff2",
   "metadata": {},
   "outputs": [
    {
     "name": "stdout",
     "output_type": "stream",
     "text": [
      "[[1. 1. 1.]\n",
      " [1. 1. 1.]]\n",
      "[1. 1. 1. 1. 1.]\n"
     ]
    }
   ],
   "source": [
    "print(np.ones((2, 3)))                  \n",
    "print(np.ones(5))"
   ]
  },
  {
   "cell_type": "code",
   "execution_count": 62,
   "id": "ff4b3f72",
   "metadata": {},
   "outputs": [
    {
     "name": "stdout",
     "output_type": "stream",
     "text": [
      "[[7 7 7]\n",
      " [7 7 7]]\n",
      "[7 7 7 7 7]\n"
     ]
    }
   ],
   "source": [
    "print(np.full((2, 3), 7))\n",
    "print(np.full(5, 7))"
   ]
  },
  {
   "cell_type": "code",
   "execution_count": 68,
   "id": "354cc421",
   "metadata": {},
   "outputs": [
    {
     "name": "stdout",
     "output_type": "stream",
     "text": [
      "[[1 2 3]\n",
      " [1 2 3]]\n"
     ]
    }
   ],
   "source": [
    "print(np.full((2, 3), (1,2,3)))"
   ]
  },
  {
   "cell_type": "code",
   "execution_count": 69,
   "id": "1e16473b",
   "metadata": {},
   "outputs": [
    {
     "name": "stdout",
     "output_type": "stream",
     "text": [
      "[[4.9e-324 9.9e-324 1.5e-323]\n",
      " [4.9e-324 9.9e-324 1.5e-323]]\n"
     ]
    }
   ],
   "source": [
    "print(np.empty((2, 3)))"
   ]
  },
  {
   "cell_type": "code",
   "execution_count": 78,
   "id": "96296103",
   "metadata": {},
   "outputs": [
    {
     "name": "stdout",
     "output_type": "stream",
     "text": [
      "      Name  Age\n",
      "0    Alice   25\n",
      "1      Bob   30\n",
      "2  Charlie   35\n",
      "3    David   40\n"
     ]
    }
   ],
   "source": [
    "import pandas as pd\n",
    "\n",
    "data = {\n",
    "    'Name': ['Alice', 'Bob', 'Charlie', 'David'],\n",
    "    'Age': [25, 30, 35, 40],}\n",
    "\n",
    "df = pd.DataFrame(data)\n",
    "print(df)\n"
   ]
  },
  {
   "cell_type": "code",
   "execution_count": 85,
   "id": "855acdc9",
   "metadata": {},
   "outputs": [
    {
     "name": "stdout",
     "output_type": "stream",
     "text": [
      "Alice\n",
      "35\n"
     ]
    }
   ],
   "source": [
    "print(df.loc[0,'Name'])\n",
    "print(df.iloc[2, 1])  # Accessing by index\n"
   ]
  },
  {
   "cell_type": "code",
   "execution_count": 88,
   "id": "1020292a",
   "metadata": {},
   "outputs": [
    {
     "name": "stdout",
     "output_type": "stream",
     "text": [
      "Name    Charlie\n",
      "Age          35\n",
      "Name: 2, dtype: object\n",
      "Name    Charlie\n",
      "Age          35\n",
      "Name: 2, dtype: object\n"
     ]
    }
   ],
   "source": [
    "print(df.loc[2])  \n",
    "print(df.iloc[2]) "
   ]
  },
  {
   "cell_type": "code",
   "execution_count": null,
   "id": "b4debd32",
   "metadata": {},
   "outputs": [
    {
     "name": "stdout",
     "output_type": "stream",
     "text": [
      "              Name  Age\n",
      "student_1    Alice   25\n",
      "student_2      Bob   30\n",
      "student_3  Charlie   35\n",
      "student_4    David   40\n",
      "30\n",
      "Name    Charlie\n",
      "Age          35\n",
      "Name: student_3, dtype: object\n"
     ]
    }
   ],
   "source": [
    "df = pd.DataFrame(data, index=['student_1', 'student_2', 'student_3', 'student_4'])\n",
    "print(df)\n"
   ]
  },
  {
   "cell_type": "code",
   "execution_count": 95,
   "id": "8c244b7b",
   "metadata": {},
   "outputs": [
    {
     "name": "stdout",
     "output_type": "stream",
     "text": [
      "Name    Charlie\n",
      "Age          35\n",
      "Name: student_3, dtype: object\n",
      "Name    Bob\n",
      "Age      30\n",
      "Name: student_2, dtype: object\n"
     ]
    }
   ],
   "source": [
    "print(df.loc['student_3'])\n",
    "print(df.iloc[1]) "
   ]
  },
  {
   "cell_type": "code",
   "execution_count": 101,
   "id": "299b00ae",
   "metadata": {},
   "outputs": [
    {
     "name": "stdout",
     "output_type": "stream",
     "text": [
      "              Name  Age\n",
      "student_1    Alice   25\n",
      "student_3  Charlie   35\n"
     ]
    }
   ],
   "source": [
    "print(df.loc[['student_1', 'student_3']])"
   ]
  }
 ],
 "metadata": {
  "kernelspec": {
   "display_name": "Python 3",
   "language": "python",
   "name": "python3"
  },
  "language_info": {
   "codemirror_mode": {
    "name": "ipython",
    "version": 3
   },
   "file_extension": ".py",
   "mimetype": "text/x-python",
   "name": "python",
   "nbconvert_exporter": "python",
   "pygments_lexer": "ipython3",
   "version": "3.13.3"
  }
 },
 "nbformat": 4,
 "nbformat_minor": 5
}
